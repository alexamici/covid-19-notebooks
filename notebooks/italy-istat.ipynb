{
 "cells": [
  {
   "cell_type": "code",
   "execution_count": null,
   "metadata": {},
   "outputs": [],
   "source": [
    "%load_ext autoreload\n",
    "%autoreload 2\n",
    "\n",
    "%matplotlib inline"
   ]
  },
  {
   "cell_type": "code",
   "execution_count": null,
   "metadata": {},
   "outputs": [],
   "source": [
    "import sys\n",
    "sys.path.insert(0, '..')\n",
    "import warnings\n",
    "warnings.filterwarnings('ignore')\n",
    "\n",
    "import matplotlib\n",
    "import matplotlib.pyplot as plt\n",
    "plt.rcParams['figure.figsize'] = (14, 9)\n",
    "plt.rcParams['font.size'] = 16\n",
    "import numpy as np\n",
    "import pandas as pd\n",
    "import seaborn as sns\n",
    "import xarray as xr\n",
    "\n",
    "import covid19\n",
    "\n",
    "PALETTE = sns.color_palette()"
   ]
  },
  {
   "cell_type": "markdown",
   "metadata": {},
   "source": [
    "## data"
   ]
  },
  {
   "cell_type": "code",
   "execution_count": null,
   "metadata": {
    "scrolled": false
   },
   "outputs": [],
   "source": [
    "istat_path = 'comuni_giornaliero.csv'\n",
    "_, istat = covid19.data.read_istat(istat_path)\n",
    "# _, istat_all = covid19.data.read_istat(istat_path, drop=False)\n",
    "# istat = istat.sel(time=slice(None, '2020-06-30'))\n",
    "istat"
   ]
  },
  {
   "cell_type": "code",
   "execution_count": null,
   "metadata": {},
   "outputs": [],
   "source": [
    "istat.sel(year=2020).sum('location')"
   ]
  },
  {
   "cell_type": "code",
   "execution_count": null,
   "metadata": {},
   "outputs": [],
   "source": [
    "mar_15_19_averages = istat.sel(time=slice('2020-03-01', '2020-04-30')).fillna(0).mean(['time', 'year'])\n",
    "mar_15_19_averages.sum('location').values"
   ]
  },
  {
   "cell_type": "code",
   "execution_count": null,
   "metadata": {},
   "outputs": [],
   "source": [
    "jan_feb_20_averages = istat.sel(year=2020, time=slice('2020-01-01', '2020-02-20')).fillna(0).mean('time')\n",
    "jan_feb_20_averages.sum('location').values"
   ]
  },
  {
   "cell_type": "code",
   "execution_count": null,
   "metadata": {},
   "outputs": [],
   "source": [
    "deaths_italy = istat.sel(year=2020).sum('location')\n",
    "\n",
    "(deaths_italy.sel(time=slice('2020-02-21', '2020-04-30')) - jan_feb_20_averages.sum('location')).sum('time')"
   ]
  },
  {
   "cell_type": "code",
   "execution_count": null,
   "metadata": {},
   "outputs": [],
   "source": [
    "deaths_italy_fraction = deaths_italy / jan_feb_20_averages.sum('location')\n",
    "\n",
    "deaths_italy_fraction"
   ]
  },
  {
   "cell_type": "markdown",
   "metadata": {},
   "source": [
    "## situation report"
   ]
  },
  {
   "cell_type": "code",
   "execution_count": null,
   "metadata": {},
   "outputs": [],
   "source": [
    "ax = covid19.plot.plot_xarray(istat.sum(['location', 'age_class']), hue='year', xlim=(np.datetime64('2019-12-28'), np.datetime64('2020-06-30')))\n",
    "_ = ax.legend()"
   ]
  },
  {
   "cell_type": "code",
   "execution_count": null,
   "metadata": {
    "scrolled": false
   },
   "outputs": [],
   "source": [
    "ax = covid19.plot.plot_xarray(deaths_italy.sel(time=slice('2020-01-01', '2020-02-20')), window=1, xlim=(np.datetime64('2019-12-28'), np.datetime64('2020-03-15')))\n",
    "_ = ax.set(\n",
    "    title='Decessi per tutte le cause (ISTAT)',\n",
    "    ylabel='decessi'\n",
    ")\n",
    "_ = ax.legend(title='classi di età', loc='upper right')"
   ]
  },
  {
   "cell_type": "code",
   "execution_count": null,
   "metadata": {},
   "outputs": [],
   "source": [
    "ax = covid19.plot.plot_xarray(deaths_italy, foreground_interval=(None, '2020-04-30'))\n",
    "_ = ax.set(\n",
    "    title='Decessi per tutte le cause (ISTAT)',\n",
    "    ylabel='decessi'\n",
    ")\n",
    "_ = ax.legend(title='classi di età')"
   ]
  },
  {
   "cell_type": "code",
   "execution_count": null,
   "metadata": {},
   "outputs": [],
   "source": [
    "ax = covid19.plot.plot_xarray(deaths_italy_fraction, window=5, foreground_interval=(None, '2020-04-28'))\n",
    "# foreground_hue=['50-59', '60-69', '70-79', '80-89', '90+']\n",
    "_ = ax.set(\n",
    "    title='Indice dei decessi per classe di età (ISTAT)',\n",
    "    ylabel='indice',\n",
    ")\n",
    "_ = ax.yaxis.set_major_locator(matplotlib.ticker.MaxNLocator(integer=True))\n",
    "_ = ax.legend(title='classe di età')"
   ]
  },
  {
   "cell_type": "code",
   "execution_count": null,
   "metadata": {},
   "outputs": [],
   "source": [
    "ax = covid19.plot.plot_xarray(deaths_italy_fraction, window=5, foreground_hue=['70-79'], foreground_interval=(None, '2020-04-28'))\n",
    "# foreground_hue=['50-59', '60-69', '70-79', '80-89', '90+']\n",
    "_ = ax.set(\n",
    "    title='Indice dei decessi per classe di età (ISTAT)',\n",
    "    ylabel='indice',\n",
    ")\n",
    "_ = ax.yaxis.set_major_locator(matplotlib.ticker.MaxNLocator(integer=True))\n",
    "_ = ax.legend(title='classe di età')"
   ]
  },
  {
   "cell_type": "code",
   "execution_count": null,
   "metadata": {
    "scrolled": false
   },
   "outputs": [],
   "source": [
    "comune = \"Torino\"\n",
    "FI = (None, '2020-04-28')\n",
    "window = 3\n",
    "\n",
    "istat_comune = istat.sel(year=2020, location=comune).fillna(0)\n",
    "istat_comune_frazione = istat_comune / istat_comune.sel(time=slice('2020-01-01', '2020-02-20')).mean('time')\n",
    "\n",
    "istat_comune_anni = istat.sel(location=comune, time=istat['time'] != np.datetime64('2020-02-29')).sum('age_class')\n",
    "ax = covid19.plot.plot_xarray(istat_comune_anni, window=window, hue='year', foreground_interval=FI, foreground_hue=[2016, 2020])\n",
    "_ = ax.set(\n",
    "    title=f'Decessi per tutte le cause nel comune di {comune} (ISTAT) media mobile {window} giorni',\n",
    "    ylabel='decessi',\n",
    ")\n",
    "_ = ax.yaxis.set_major_locator(matplotlib.ticker.MaxNLocator(integer=True))\n",
    "_ = ax.legend(title='anno')\n",
    "\n",
    "ax = covid19.plot.plot_xarray(istat_comune, window=window, foreground_interval=FI, foreground_hue=['70-79', '80-89', '90+'])\n",
    "_ = ax.set(\n",
    "    title=f'Decessi per tutte le cause nel comune di {comune} (ISTAT)',\n",
    "    ylabel='decessi'\n",
    ")\n",
    "_ = ax.legend(title='classi di età')\n",
    "\n",
    "\n",
    "ax = covid19.plot.plot_xarray(istat_comune_frazione, window=window, foreground_interval=FI, foreground_hue=['70-79', '80-89', '90+'])\n",
    "_ = ax.set(\n",
    "    title=f'Indice dei decessi per classe di età nel comune di {comune} (ISTAT)',\n",
    "    ylabel='indice',\n",
    ")\n",
    "_ = ax.yaxis.set_major_locator(matplotlib.ticker.MaxNLocator(integer=True))\n",
    "_ = ax.legend(title='classe di età')\n"
   ]
  },
  {
   "cell_type": "code",
   "execution_count": null,
   "metadata": {
    "scrolled": false
   },
   "outputs": [],
   "source": [
    "provincia = 'Ferrara'\n",
    "FI = (None, '2020-04-30')\n",
    "window = 7\n",
    "\n",
    "istat_provincia = istat.groupby('province').sum().sel(province=provincia, year=2020)\n",
    "istat_provincia_frazione = istat_provincia / istat_provincia.sel(time=slice('2020-01-01', '2020-02-20')).fillna(0).mean('time')\n",
    "\n",
    "istat_provincia_anni = istat.sel(time=istat['time'] != np.datetime64('2020-02-29')).groupby('province').sum().sel(province=provincia).sum('age_class')\n",
    "ax = covid19.plot.plot_xarray(istat_provincia_anni, window=window, hue='year', foreground_interval=FI, foreground_hue=[2016, 2020])\n",
    "_ = ax.set(\n",
    "    title=f'Decessi per tutte le cause nella provincia di {provincia} (ISTAT) media mobile {window} giorni',\n",
    "    ylabel='decessi',\n",
    ")\n",
    "_ = ax.yaxis.set_major_locator(matplotlib.ticker.MaxNLocator(integer=True))\n",
    "_ = ax.legend(title='anno')\n",
    "\n",
    "ax = covid19.plot.plot_xarray(istat_provincia, window=window, foreground_interval=FI, foreground_hue=['70-79', '80-89', '90+'])\n",
    "_ = ax.set(\n",
    "    title=f'Decessi per tutte le cause nella provincia di {provincia} (ISTAT)',\n",
    "    ylabel='decessi'\n",
    ")\n",
    "_ = ax.legend(title='classi di età')\n",
    "\n",
    "\n",
    "ax = covid19.plot.plot_xarray(istat_provincia_frazione, window=window, foreground_interval=FI)\n",
    "_ = ax.set(\n",
    "    title=f'Indice dei decessi per classe di età nella provincia di {provincia} (ISTAT)',\n",
    "    ylabel='indice',\n",
    ")\n",
    "_ = ax.yaxis.set_major_locator(matplotlib.ticker.MaxNLocator(integer=True))\n",
    "_ = ax.legend(title='classe di età')\n",
    "\n",
    "\n",
    "# istat_provincia_anni.sel(time='2020-03').sum('time')"
   ]
  },
  {
   "cell_type": "code",
   "execution_count": null,
   "metadata": {},
   "outputs": [],
   "source": [
    "provincia = \"Lodi\"\n",
    "FI = (None, '2020-04-30')\n",
    "window = 3\n",
    "\n",
    "istat_provincia = istat.groupby('province').sum().sel(province=provincia, year=2020)\n",
    "istat_provincia_frazione = istat_provincia / istat_provincia.sel(time=slice('2020-01-01', '2020-02-20')).fillna(0).mean('time')\n",
    "\n",
    "istat_provincia_anni = istat.sel(time=istat['time'] != np.datetime64('2020-02-29')).groupby('province').sum().sel(province=provincia).sum('age_class')\n",
    "ax = covid19.plot.plot_xarray(istat_provincia_anni, window=window, hue='year', foreground_interval=FI, foreground_hue=[2016, 2020])\n",
    "_ = ax.set(\n",
    "    title=f'Decessi per tutte le cause nella provincia di {provincia} (ISTAT) media mobile {window} giorni',\n",
    "    ylabel='decessi',\n",
    ")\n",
    "_ = ax.yaxis.set_major_locator(matplotlib.ticker.MaxNLocator(integer=True))\n",
    "_ = ax.legend(title='anno')\n",
    "\n",
    "ax = covid19.plot.plot_xarray(istat_provincia, window=window, foreground_interval=FI, foreground_hue=['90+'])\n",
    "_ = ax.set(\n",
    "    title=f'Decessi per tutte le cause nella provincia di {provincia} (ISTAT)',\n",
    "    ylabel='decessi'\n",
    ")\n",
    "_ = ax.legend(title='classi di età')\n",
    "\n",
    "\n",
    "ax = covid19.plot.plot_xarray(istat_provincia_frazione, window=window, foreground_interval=FI)\n",
    "_ = ax.set(\n",
    "    title=f'Indice dei decessi per classe di età nella provincia di {provincia} (ISTAT)',\n",
    "    ylabel='indice',\n",
    ")\n",
    "_ = ax.yaxis.set_major_locator(matplotlib.ticker.MaxNLocator(integer=True))\n",
    "_ = ax.legend(title='classe di età')\n",
    "\n",
    "\n",
    "# istat_provincia_anni.sel(time='2020-03').sum('time')"
   ]
  },
  {
   "cell_type": "code",
   "execution_count": null,
   "metadata": {},
   "outputs": [],
   "source": []
  }
 ],
 "metadata": {
  "kernelspec": {
   "display_name": "Python 3",
   "language": "python",
   "name": "python3"
  },
  "language_info": {
   "codemirror_mode": {
    "name": "ipython",
    "version": 3
   },
   "file_extension": ".py",
   "mimetype": "text/x-python",
   "name": "python",
   "nbconvert_exporter": "python",
   "pygments_lexer": "ipython3",
   "version": "3.7.7"
  }
 },
 "nbformat": 4,
 "nbformat_minor": 4
}
