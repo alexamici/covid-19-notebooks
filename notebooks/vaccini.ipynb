{
 "cells": [
  {
   "cell_type": "code",
   "execution_count": null,
   "metadata": {},
   "outputs": [],
   "source": [
    "%load_ext autoreload\n",
    "%autoreload 2\n",
    "\n",
    "\n",
    "%matplotlib inline"
   ]
  },
  {
   "cell_type": "code",
   "execution_count": null,
   "metadata": {},
   "outputs": [],
   "source": [
    "import sys\n",
    "sys.path.insert(0, '..')\n",
    "\n",
    "import matplotlib\n",
    "import matplotlib.pyplot as plt\n",
    "plt.rcParams['figure.figsize'] = (12, 10)\n",
    "plt.rcParams['font.size'] = 12\n",
    "\n",
    "import covid19"
   ]
  },
  {
   "cell_type": "code",
   "execution_count": null,
   "metadata": {},
   "outputs": [],
   "source": [
    "import numpy as np\n",
    "import pandas as pd\n",
    "import xarray as xr"
   ]
  },
  {
   "cell_type": "code",
   "execution_count": null,
   "metadata": {},
   "outputs": [],
   "source": [
    "!git -C ../../covid19-opendata-vaccini pull"
   ]
  },
  {
   "cell_type": "code",
   "execution_count": null,
   "metadata": {},
   "outputs": [],
   "source": [
    "consegne = pd.read_csv('../../covid19-opendata-vaccini/dati/consegne-vaccini-latest.csv')\n",
    "consegne"
   ]
  },
  {
   "cell_type": "code",
   "execution_count": null,
   "metadata": {},
   "outputs": [],
   "source": [
    "path = '../../covid19-opendata-vaccini/dati/somministrazioni-vaccini-latest.csv'\n",
    "vaccines_italy = covid19.data.read_vaccini(path)\n",
    "vaccines_italy"
   ]
  },
  {
   "cell_type": "code",
   "execution_count": null,
   "metadata": {},
   "outputs": [],
   "source": [
    "doses = vaccines_italy.dose1 + vaccines_italy.dose2\n",
    "doses = doses.loc[{\"provider\": slice(None, None, -1)}]\n",
    "doses0 = doses.sum(\"age_class\")\n",
    "doses70 = doses.sel(age_class=slice(\"70-79\", None)).sum(\"age_class\")\n",
    "doses80 = doses.sel(age_class=slice(\"80-89\", None)).sum(\"age_class\")\n",
    "\n",
    "doses0_sum = doses0.cumsum(\"time\")\n",
    "doses70_sum = doses70.cumsum(\"time\")\n",
    "doses80_sum = doses80.cumsum(\"time\")"
   ]
  },
  {
   "cell_type": "code",
   "execution_count": null,
   "metadata": {},
   "outputs": [],
   "source": [
    "doses0_pm = doses0 / doses70.population * 1_000_000\n",
    "doses70_pm = doses70 / doses70.population_70 * 1_000_000\n",
    "doses80_pm = doses80 / doses80.population_80 * 1_000_000\n",
    "\n",
    "doses0_sum_pm = doses0_pm.cumsum(\"time\")\n",
    "doses70_sum_pm = doses70_pm.cumsum(\"time\")\n",
    "doses80_sum_pm = doses80_pm.cumsum(\"time\")"
   ]
  },
  {
   "cell_type": "code",
   "execution_count": null,
   "metadata": {},
   "outputs": [],
   "source": [
    "location = \"Italia\"\n",
    "ax = covid19.plot.stack_xarray(doses0_sum_pm.sel(location=location) / 1_000_000 / 2, hue=\"provider\", window=7, title=f\"Popolazione - {location}\", ylim=(0, 1))\n",
    "ax.yaxis.set_major_formatter(matplotlib.ticker.PercentFormatter(1, 0))\n",
    "ax.set(ylabel=\"% dosi somministrate\")\n",
    "ax.legend() "
   ]
  },
  {
   "cell_type": "code",
   "execution_count": null,
   "metadata": {},
   "outputs": [],
   "source": [
    "location = \"Italia\"\n",
    "ax = covid19.plot.stack_xarray(doses70_sum_pm.sel(location=location) / 1_000_000 / 2, hue=\"provider\", window=7, title=f\"Popolazione over 70 - {location}\", ylim=(0, 1))\n",
    "ax.yaxis.set_major_formatter(matplotlib.ticker.PercentFormatter(1, 0))\n",
    "ax.set(ylabel=\"% dosi somministrate\")\n",
    "ax.legend() "
   ]
  },
  {
   "cell_type": "code",
   "execution_count": null,
   "metadata": {},
   "outputs": [],
   "source": [
    "location = \"Italia\"\n",
    "ax = covid19.plot.stack_xarray(doses80_sum_pm.sel(location=location) / 1_000_000 / 2, hue=\"provider\", window=7, title=f\"Popolazione over 80 - {location}\", ylim=(0, 1))\n",
    "ax.yaxis.set_major_formatter(matplotlib.ticker.PercentFormatter(1, 0))\n",
    "ax.set(ylabel=\"% dosi somministrate\")\n",
    "ax.legend() "
   ]
  },
  {
   "cell_type": "code",
   "execution_count": null,
   "metadata": {
    "scrolled": false
   },
   "outputs": [],
   "source": [
    "doses80_today = doses80_sum.sum(\"provider\")\n",
    "doses80_todo = doses80_sum.population_80 * 2 - doses80_today\n",
    "doses80_last_week =  doses80_sum.shift({\"time\": 2}).sum(\"provider\") - doses80_sum.shift({\"time\": 9}).sum(\"provider\")\n",
    "doses80_weeks_todo = doses80_todo / doses80_last_week\n",
    "doses80_today_perc = doses80_today / (2 * doses80_todo.population_80)\n",
    "doses80_alldone =  doses80_weeks_todo * 7 * pd.Timedelta(1, \"D\") + doses80_today.time\n",
    "doses80_alldone"
   ]
  },
  {
   "cell_type": "code",
   "execution_count": null,
   "metadata": {},
   "outputs": [],
   "source": [
    "ax = covid19.plot.scatter_xarray(doses80_alldone.isel(time=slice(-7, None)), doses80_today_perc, xlim=(np.datetime64('2021-03-01'), np.datetime64('2022-03-01')), ylim=(0,1))\n",
    "ax.yaxis.set_major_formatter(matplotlib.ticker.PercentFormatter(1, 0))\n",
    "_ = ax.set(title=\"Popolazione over 80 - Italia\", ylabel=\"% dosi somministrate\", xlabel=\"data stimata per complere le vaccinazioni\")"
   ]
  },
  {
   "cell_type": "code",
   "execution_count": null,
   "metadata": {},
   "outputs": [],
   "source": [
    "doses70_today = doses70_sum.sum(\"provider\")\n",
    "doses70_todo = doses70_sum.population_70 * 2 - doses80_today\n",
    "doses70_last_week =  doses70_sum.shift({\"time\": 2}).sum(\"provider\") - doses70_sum.shift({\"time\": 9}).sum(\"provider\")\n",
    "doses70_weeks_todo = doses70_todo / doses70_last_week\n",
    "doses70_today_perc = doses70_today / (2 * doses70_todo.population_70)\n",
    "doses70_alldone =  doses70_weeks_todo * 7 * pd.Timedelta(1, \"D\") + doses70_today.time\n",
    "doses70_alldone"
   ]
  },
  {
   "cell_type": "code",
   "execution_count": null,
   "metadata": {},
   "outputs": [],
   "source": [
    "ax = covid19.plot.scatter_xarray(doses70_alldone.isel(time=slice(-7, None)), doses80_today_perc, xlim=(np.datetime64('2021-06-01'), np.datetime64('2022-06-01')), ylim=(0,1))\n",
    "ax.yaxis.set_major_formatter(matplotlib.ticker.PercentFormatter(1, 0))\n",
    "_ = ax.set(title=\"Popolazione over 70 - Italia\", ylabel=\"% dosi somministrate\", xlabel=\"data stimata per complere le vaccinazioni\")"
   ]
  },
  {
   "cell_type": "code",
   "execution_count": null,
   "metadata": {},
   "outputs": [],
   "source": []
  },
  {
   "cell_type": "code",
   "execution_count": null,
   "metadata": {
    "scrolled": false
   },
   "outputs": [],
   "source": [
    "for location in doses80_sum.location.values:\n",
    "    ax = covid19.plot.stack_xarray(doses80_sum_pm.sel(location=location) / 1_000_000 / 2, hue=\"provider\", window=7, title=f\"Popolazione over 80 - {location}\", ylim=(0, 1))\n",
    "    ax.yaxis.set_major_formatter(matplotlib.ticker.PercentFormatter(1, 0))\n",
    "    ax.set(ylabel=\"% dosi somministrate\")\n",
    "    ax.legend()"
   ]
  },
  {
   "cell_type": "code",
   "execution_count": null,
   "metadata": {
    "scrolled": false
   },
   "outputs": [],
   "source": [
    "for location in doses0_sum.location.values:\n",
    "    ax = covid19.plot.stack_xarray(doses0_sum_pm.sel(location=location) / 1_000_000 / 2, hue=\"provider\", window=7, title=f\"Popolazione - {location}\", ylim=(0, 1))\n",
    "    ax.yaxis.set_major_formatter(matplotlib.ticker.PercentFormatter(1, 0))\n",
    "    ax.set(ylabel=\"% dosi somministrate\")\n",
    "    ax.legend()"
   ]
  },
  {
   "cell_type": "code",
   "execution_count": null,
   "metadata": {},
   "outputs": [],
   "source": []
  },
  {
   "cell_type": "code",
   "execution_count": null,
   "metadata": {},
   "outputs": [],
   "source": []
  }
 ],
 "metadata": {
  "kernelspec": {
   "display_name": "Python 3",
   "language": "python",
   "name": "python3"
  },
  "language_info": {
   "codemirror_mode": {
    "name": "ipython",
    "version": 3
   },
   "file_extension": ".py",
   "mimetype": "text/x-python",
   "name": "python",
   "nbconvert_exporter": "python",
   "pygments_lexer": "ipython3",
   "version": "3.7.9"
  }
 },
 "nbformat": 4,
 "nbformat_minor": 4
}
