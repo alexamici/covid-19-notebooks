{
 "cells": [
  {
   "cell_type": "code",
   "execution_count": null,
   "metadata": {},
   "outputs": [],
   "source": [
    "%load_ext autoreload\n",
    "%autoreload 2\n",
    "\n",
    "%matplotlib inline"
   ]
  },
  {
   "cell_type": "code",
   "execution_count": null,
   "metadata": {},
   "outputs": [],
   "source": [
    "import sys\n",
    "sys.path.insert(0, '..')\n",
    "import warnings\n",
    "warnings.filterwarnings('ignore')\n",
    "\n",
    "import matplotlib\n",
    "import matplotlib.pyplot as plt\n",
    "import matplotlib.animation as animation\n",
    "plt.rcParams['figure.figsize'] = (12, 10)\n",
    "plt.rcParams['font.size'] = 12\n",
    "import pandas as pd\n",
    "import xarray as xr\n",
    "\n",
    "import covid19"
   ]
  },
  {
   "cell_type": "code",
   "execution_count": null,
   "metadata": {},
   "outputs": [],
   "source": [
    "data_italy_path = 'dpc-covid19-ita-regioni.csv'\n",
    "\n",
    "data_italy = covid19.data.read_dpc(data_italy_path)\n",
    "\n",
    "data_italy = data_italy.assign_coords({'location': ('location', [l.partition(' / ')[2] for l in data_italy.location.values])})\n",
    "data_italy = data_italy.drop(['country', 'lat', 'lon', 'state_region'])\n",
    "data_italy = xr.merge([data_italy, data_italy.sum('location').expand_dims(location=['Italia'])])\n",
    "data_italy = data_italy.sortby(data_italy.population)\n",
    "\n",
    "for col in ['deaths', 'confirmed', 'tests', 'tested']:\n",
    "    data_italy['daily_' + col] = data_italy[col].diff('time')\n",
    "    data_italy['daily_' + col + '7'] = data_italy['daily_' + col].rolling({'time': 7}).sum()\n",
    "\n",
    "data_italy"
   ]
  },
  {
   "cell_type": "code",
   "execution_count": null,
   "metadata": {},
   "outputs": [],
   "source": [
    "data_pm_italy = (data_italy / data_italy.population * 1_000_000).drop(['population'])\n",
    "data_pm_italy['positive_test_rate'] = data_pm_italy['daily_confirmed'] / data_pm_italy['daily_tests']\n",
    "data_pm_italy['positive_test_rate7'] = data_pm_italy['daily_confirmed7'] / data_pm_italy['daily_tests7']\n",
    "data_pm_italy"
   ]
  },
  {
   "cell_type": "code",
   "execution_count": null,
   "metadata": {},
   "outputs": [],
   "source": [
    "Writer = animation.writers['ffmpeg']\n",
    "writer = Writer(fps=20, metadata=dict(artist='Alessandro Amici'), bitrate=1800)"
   ]
  },
  {
   "cell_type": "code",
   "execution_count": null,
   "metadata": {},
   "outputs": [],
   "source": [
    "data = data_pm_italy.sel(time=slice('2020-05-01', None))\n",
    "data['positive_test_rate7'] = xr.where(data['positive_test_rate7'] < 0.001, 0.001, data['positive_test_rate7'])\n",
    "\n",
    "ani = covid19.plot.animate_scatter(data['daily_confirmed7'], data['positive_test_rate7'], xlim=(0.9, 1000 / 0.9), ylim=(0.0009, 0.10 / 0.9), tail=12, **{\n",
    "    'xscale': 'log', 'yscale': 'log',\n",
    "    'xlabel': 'nuovi casi negli ultimi 7 giorni per milione di abitanti', 'ylabel': 'percentuale di test positivi negli ultimi 7 giorni',\n",
    "})"
   ]
  },
  {
   "cell_type": "code",
   "execution_count": null,
   "metadata": {
    "scrolled": false
   },
   "outputs": [],
   "source": [
    "# ani.save('covid19-italy.mp4', writer=writer)"
   ]
  },
  {
   "cell_type": "code",
   "execution_count": null,
   "metadata": {},
   "outputs": [],
   "source": []
  },
  {
   "cell_type": "code",
   "execution_count": null,
   "metadata": {},
   "outputs": [],
   "source": [
    "data = data_pm_italy.sel(time=slice('2020-09-15', None))\n",
    "\n",
    "ani = covid19.plot.animate_scatter(data['daily_confirmed7'], data['positive_test_rate7'], xlim=(40 * 0.9, 1000 / 0.9), ylim=(0.004 * 0.9, 0.10 / 0.9), tail=18, freq='4h', **{\n",
    "    'xscale': 'log', 'yscale': 'log',\n",
    "    'xlabel': 'nuovi casi negli ultimi 7 giorni per milione di abitanti', 'ylabel': 'percentuale di test positivi negli ultimi 7 giorni',\n",
    "})"
   ]
  },
  {
   "cell_type": "code",
   "execution_count": null,
   "metadata": {},
   "outputs": [],
   "source": [
    "ani.save('covid19-italy-small.mp4', writer=writer)"
   ]
  },
  {
   "cell_type": "code",
   "execution_count": null,
   "metadata": {},
   "outputs": [],
   "source": []
  },
  {
   "cell_type": "code",
   "execution_count": null,
   "metadata": {},
   "outputs": [],
   "source": [
    "data = data_pm_italy.sel(time=slice('2020-09-15', None))\n",
    "\n",
    "ani = covid19.plot.animate_scatter(data['daily_confirmed7'] / 7, data['positive_test_rate7'], xlim=(0, 660), ylim=(0, 0.22), tail=24, freq='4h', **{\n",
    "    'xscale': 'linear', 'yscale': 'linear',\n",
    "    'xlabel': 'nuovi casi per milione di abitanti (media a 7 giorni)', 'ylabel': 'percentuale di test positivi negli ultimi 7 giorni',\n",
    "})"
   ]
  },
  {
   "cell_type": "code",
   "execution_count": null,
   "metadata": {},
   "outputs": [],
   "source": [
    "ani.save('covid19-italy-small-linear.mp4', writer=writer)"
   ]
  },
  {
   "cell_type": "code",
   "execution_count": null,
   "metadata": {},
   "outputs": [],
   "source": []
  },
  {
   "cell_type": "code",
   "execution_count": null,
   "metadata": {},
   "outputs": [],
   "source": [
    "lut_path = 'UID_ISO_FIPS_LookUp_Table.csv'\n",
    "data_world_deaths_path = 'time_series_covid19_deaths_global.csv'\n",
    "data_world_confirmed_path = 'time_series_covid19_confirmed_global.csv'\n",
    "data_world = covid19.data.read_jhu_global(data_world_deaths_path, lut_path=lut_path)\n",
    "data_world['confirmed'] = covid19.data.read_jhu_global(data_world_confirmed_path)['deaths']\n",
    "\n",
    "data_world = data_world.sortby(data_world.population)\n",
    "\n",
    "for col in ['deaths', 'confirmed']:\n",
    "    data_world['daily_' + col] = data_world[col].diff('time')\n",
    "    data_world['daily_' + col + '7'] = data_world['daily_' + col].rolling({'time': 7}).sum()\n",
    "\n",
    "data_world"
   ]
  },
  {
   "cell_type": "code",
   "execution_count": null,
   "metadata": {},
   "outputs": [],
   "source": [
    "data_pm_world = (data_world / data_world.population * 1_000_000).drop(['population'])\n",
    "data_pm_world"
   ]
  },
  {
   "cell_type": "code",
   "execution_count": null,
   "metadata": {},
   "outputs": [],
   "source": [
    "data = data_pm_world.sel(time=slice('2020-03-09', None), location=data_world['deaths'].isel(time=-1) > 1000)\n",
    "data['daily_deaths7'] = xr.where(data['daily_deaths7'] < 0.31, 0.31, data['daily_deaths7'])\n",
    "\n",
    "ani = covid19.plot.animate_scatter(data['deaths'], data['daily_deaths7'], xlim=(9, 1500), ylim=(0.3, 200 / 0.9), **{\n",
    "    'xscale': 'log', 'yscale': 'log',\n",
    "    'xlabel': 'decessi totali per milione di abitanti', 'ylabel': 'decessi negli ultimi 7 giorni per milione di abitanti',\n",
    "})"
   ]
  },
  {
   "cell_type": "code",
   "execution_count": null,
   "metadata": {},
   "outputs": [],
   "source": [
    "ani.save('covid19-world.mp4', writer=writer)"
   ]
  },
  {
   "cell_type": "code",
   "execution_count": null,
   "metadata": {},
   "outputs": [],
   "source": []
  },
  {
   "cell_type": "code",
   "execution_count": null,
   "metadata": {},
   "outputs": [],
   "source": [
    "data = data_pm_world.sel(time=slice('2020-03-09', None), location=data_world['deaths'].isel(time=-1) > 1000)\n",
    "data = data.sel(location=['Italy', 'Israel', 'France', 'Spain', 'United Kingdom', 'US', 'Germany', 'Netherlands', 'Belgium', 'Sweden', 'Switzerland'])\n",
    "data['daily_deaths7'] = xr.where(data['daily_deaths7'] < 0.31, 0.31, data['daily_deaths7'])\n",
    "\n",
    "ani = covid19.plot.animate_scatter(data['daily_confirmed7'], data['daily_deaths7'], xlim=(9, 5500), ylim=(0.3, 200 / 0.9), tail=12, **{\n",
    "    'xscale': 'log', 'yscale': 'log',\n",
    "    'xlabel': 'nuovi casi negli ultimi 7 giorni per milione di abitanti', 'ylabel': 'decessi negli ultimi 7 giorni per milione di abitanti',\n",
    "})"
   ]
  },
  {
   "cell_type": "code",
   "execution_count": null,
   "metadata": {},
   "outputs": [],
   "source": [
    "ani.save('covid19-world2.mp4', writer=writer)"
   ]
  },
  {
   "cell_type": "code",
   "execution_count": null,
   "metadata": {},
   "outputs": [],
   "source": []
  }
 ],
 "metadata": {
  "kernelspec": {
   "display_name": "Python 3",
   "language": "python",
   "name": "python3"
  },
  "language_info": {
   "codemirror_mode": {
    "name": "ipython",
    "version": 3
   },
   "file_extension": ".py",
   "mimetype": "text/x-python",
   "name": "python",
   "nbconvert_exporter": "python",
   "pygments_lexer": "ipython3",
   "version": "3.7.7"
  }
 },
 "nbformat": 4,
 "nbformat_minor": 4
}
