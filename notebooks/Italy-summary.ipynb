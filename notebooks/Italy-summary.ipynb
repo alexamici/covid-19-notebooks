{
 "cells": [
  {
   "cell_type": "code",
   "execution_count": null,
   "metadata": {},
   "outputs": [],
   "source": [
    "%load_ext autoreload\n",
    "%autoreload 2\n",
    "\n",
    "\n",
    "%matplotlib inline\n",
    "%config InlineBackend.figure_format = 'retina'"
   ]
  },
  {
   "cell_type": "code",
   "execution_count": null,
   "metadata": {},
   "outputs": [],
   "source": [
    "import sys\n",
    "sys.path.insert(0, '..')\n",
    "\n",
    "import matplotlib\n",
    "import matplotlib.pyplot as plt\n",
    "plt.rcParams['figure.figsize'] = (12, 8)\n",
    "plt.rcParams['font.size'] = 12\n",
    "plt.rcParams['font.sans-serif'] = \"Ubuntu\"\n",
    "plt.rcParams['font.weight'] = \"light\"\n",
    "plt.rcParams[\"figure.facecolor\"] = \"white\"\n",
    "\n",
    "import covid19"
   ]
  },
  {
   "cell_type": "code",
   "execution_count": null,
   "metadata": {},
   "outputs": [],
   "source": [
    "import numpy as np\n",
    "import pandas as pd\n",
    "import seaborn as sns\n",
    "import xarray as xr"
   ]
  },
  {
   "cell_type": "code",
   "execution_count": null,
   "metadata": {},
   "outputs": [],
   "source": [
    "COPYRIGHT_EPIDEMICS = \"\\xa9 2021 Alessandro Amici, dati github.com/pcm-dpc/COVID-19\"\n",
    "COPYRIGHT_VACCINES = \"\\xa9 2021 Alessandro Amici, dati github.com/italia/covid19-opendata-vaccini\""
   ]
  },
  {
   "cell_type": "code",
   "execution_count": null,
   "metadata": {},
   "outputs": [],
   "source": [
    "!git -C ../../../pcm-dpc/COVID-19 pull"
   ]
  },
  {
   "cell_type": "code",
   "execution_count": null,
   "metadata": {},
   "outputs": [],
   "source": [
    "data_italy_path = '../../../pcm-dpc/COVID-19/dati-regioni/dpc-covid19-ita-regioni.csv'\n",
    "\n",
    "data_italy = covid19.data.read_dpc(data_italy_path, location_prefix=\"\")\n",
    "\n",
    "data_italy = data_italy.drop_vars([\"lat\", \"lon\", \"country\", \"state_region\"])\n",
    "\n",
    "data_italy_sum = data_italy.sum('location').expand_dims(location=['Italia']).assign_coords(population=data_italy.population.sum(\"location\").expand_dims(location=['Italia']))\n",
    "data_italy = xr.merge([data_italy, data_italy_sum])\n",
    "data_italy = data_italy.assign_coords(population=data_italy.population.astype(int))\n",
    "\n",
    "for data_var_name in [\"deaths\", \"tests\"]:\n",
    "    data_italy[\"daily_\" + data_var_name] = data_italy[data_var_name].diff(\"time\")\n",
    "    data_italy = data_italy.drop_vars(data_var_name)\n",
    "\n",
    "data_italy = data_italy.fillna(0).astype(int)\n",
    "\n",
    "for data_var_name in data_italy:\n",
    "    if data_var_name.startswith(\"daily_\"):\n",
    "        data_italy[data_var_name + \"7\"] = data_italy[data_var_name].rolling(time=7).mean()\n",
    "\n",
    "data_italy[\"daily_critical7\"] = xr.where(data_italy.time > np.datetime64(\"2021-01-01\"), data_italy[\"daily_critical7\"], np.nan)\n",
    "\n",
    "data_italy_last_day = data_italy.time.values[-1]\n",
    "data_italy_first_day = data_italy.time.values[0]\n",
    "\n",
    "data_italy"
   ]
  },
  {
   "cell_type": "code",
   "execution_count": null,
   "metadata": {},
   "outputs": [],
   "source": [
    "data_italy.isel(time=-1).to_dataframe()"
   ]
  },
  {
   "cell_type": "code",
   "execution_count": null,
   "metadata": {},
   "outputs": [],
   "source": []
  },
  {
   "cell_type": "code",
   "execution_count": null,
   "metadata": {},
   "outputs": [],
   "source": [
    "data_italy_week_ago = data_italy.shift(time=7)\n",
    "print((data_italy - data_italy_week_ago).daily_confirmed.isel(time=slice(-14, None)).sel(location=\"Italia\").to_series())\n",
    "print((data_italy - data_italy_week_ago).daily_tests.isel(time=slice(-14, None)).sel(location=\"Italia\").to_series())\n",
    "print(data_italy.daily_tests.isel(time=slice(-14, None)).sel(location=\"Italia\").to_series())"
   ]
  },
  {
   "cell_type": "code",
   "execution_count": null,
   "metadata": {},
   "outputs": [],
   "source": [
    "data_italy.sel(location=\"Italia\").daily_confirmed[data_italy.sel(location=\"Italia\").daily_confirmed >= 10172].isel(time=slice(-14, None)).to_series()"
   ]
  },
  {
   "cell_type": "code",
   "execution_count": null,
   "metadata": {},
   "outputs": [],
   "source": [
    "data_italy_pm = data_italy / data_italy.population * 1_000_000\n",
    "\n",
    "data_italy_pm[\"tpr\"] = data_italy_pm.daily_confirmed / data_italy_pm.daily_tests\n",
    "data_italy_pm[\"tpr7\"] = data_italy_pm.daily_confirmed.rolling(time=7).sum() / data_italy_pm.daily_tests.rolling(time=7).sum()\n",
    "\n",
    "data_italy_pm"
   ]
  },
  {
   "cell_type": "code",
   "execution_count": null,
   "metadata": {},
   "outputs": [],
   "source": [
    "data_italy_pm.sel(location=\"Italia\").isel(time=slice(-14, None)).to_dataframe()"
   ]
  },
  {
   "cell_type": "code",
   "execution_count": null,
   "metadata": {},
   "outputs": [],
   "source": [
    "COLORS = list(sns.color_palette())\n",
    "KINDS = [\"daily_tests7\", \"daily_confirmed7\", \"current_severe\", \"current_critical\", \"daily_deaths7\", \"tpr7\", None, None, \"daily_critical7\"]\n",
    "DAY = np.timedelta64(1, \"D\")\n",
    "\n",
    "XLIM_ALL = (data_italy_first_day, data_italy_last_day + 40 * DAY)\n",
    "XLIM_ONE_YEAR = (data_italy_last_day - (365 + 30) * DAY, data_italy_last_day + 30 * DAY)\n",
    "XLIM_THREE_MONTHS = (data_italy_last_day - 100 * DAY, data_italy_last_day + 20 * DAY)\n",
    "XLIM_FOUR_MONTHS = (data_italy_last_day - 130 * DAY, data_italy_last_day + 20 * DAY)\n",
    "XLIM_SIX_MONTHS = (data_italy_last_day - 20 * DAY - 182 * DAY, data_italy_last_day + 20 * DAY)\n",
    "XLIM_THREE_MONTHS_LAST_YEAR = (data_italy_last_day - (100 + 365) * DAY, data_italy_last_day + (20 - 365) * DAY)\n"
   ]
  },
  {
   "cell_type": "code",
   "execution_count": null,
   "metadata": {},
   "outputs": [],
   "source": [
    "SHOW = None\n",
    "\n",
    "data = data_italy_pm.sel(location=\"Italia\")\n",
    "\n",
    "fig, ax = covid19.plot.subplots(subplot_kw={'yscale': 'log', 'ylim': (0.07, 15000), \"xlim\": XLIM_ALL}, figsize=(12, 10), note=COPYRIGHT_EPIDEMICS, note_pos=(1, 0.02))\n",
    "\n",
    "for kind, color in reversed(list(zip(KINDS, COLORS))):\n",
    "    if kind is None or (SHOW and kind not in SHOW):\n",
    "        continue\n",
    "    covid19.plot.plot_data(ax, data[kind], label=kind, color=color, date_interval=35, marker=None, annotate=True)\n",
    "\n",
    "_ = ax.set_title(f'COVID-19 Italia - dati Protezione Civile al {str(data_italy_last_day)[:10]}')\n",
    "_ = ax.set(xlabel=\"\", ylabel=\"# per milione di abitanti\")\n",
    "_ = ax.legend(loc='upper left')"
   ]
  },
  {
   "cell_type": "code",
   "execution_count": null,
   "metadata": {},
   "outputs": [],
   "source": [
    "SHOW = {\"daily_confirmed7\", \"current_severe\", \"current_critical\", \"daily_deaths7\", \"daily_critical7\"}\n",
    "\n",
    "data = data_italy_pm.sel(location=\"Italia\")\n",
    "\n",
    "fig, ax = covid19.plot.subplots(subplot_kw={'yscale': 'log', 'ylim': (5, 500), \"xlim\": XLIM_SIX_MONTHS}, figsize=(12, 10), note=COPYRIGHT_EPIDEMICS, note_pos=(1, 0.02))\n",
    "\n",
    "SCALE = [0.3, .5, 0.7, 5.5, 50, 1, 1, 1, 70]\n",
    "\n",
    "for kind, color, scale in zip(KINDS, COLORS, SCALE):\n",
    "    if kind is None or (SHOW and kind not in SHOW):\n",
    "        continue\n",
    "    label = kind if scale == 1 else f\"{kind} times {scale}\"\n",
    "    covid19.plot.plot_data(ax, data[kind], label=label, color=color, date_interval=35, marker=None, annotate=True, ratio=1 / scale)\n",
    "\n",
    "_ = ax.set_title(f'COVID-19 Italia - dati Protezione Civile al {str(data_italy_last_day)[:10]}')\n",
    "_ = ax.set(xlabel=\"\", ylabel=\"# per milione di abitanti\")\n",
    "_ = ax.legend(loc='upper left')"
   ]
  },
  {
   "cell_type": "code",
   "execution_count": null,
   "metadata": {},
   "outputs": [],
   "source": [
    "SHOW = {\"daily_confirmed7\", \"current_severe\", \"current_critical\", \"daily_deaths7\", \"daily_critical7\"}\n",
    "\n",
    "data = data_italy_pm.sel(location=\"Italia\")\n",
    "\n",
    "fig, ax = covid19.plot.subplots(subplot_kw={'yscale': 'log', 'ylim': (0.07, 150), \"xlim\": XLIM_THREE_MONTHS}, figsize=(12, 10), note=COPYRIGHT_EPIDEMICS, note_pos=(1, 0.02))\n",
    "\n",
    "for kind, color in reversed(list(zip(KINDS, COLORS))):\n",
    "    if kind is None or (SHOW and kind not in SHOW):\n",
    "        continue\n",
    "    covid19.plot.plot_data(ax, data[kind], label=kind, color=color, date_interval=7, marker=None, annotate=True)\n",
    "\n",
    "_ = ax.set_title(f'COVID-19 Italia - dati Protezione Civile al {str(data_italy_last_day)[:10]}')\n",
    "_ = ax.set(xlabel=\"\", ylabel=\"# per milione di abitanti\")\n",
    "_ = ax.legend(loc='upper left')"
   ]
  },
  {
   "cell_type": "code",
   "execution_count": null,
   "metadata": {},
   "outputs": [],
   "source": [
    "SHOW = {\"daily_confirmed7\"}\n",
    "FIT_DAYS = 60\n",
    "\n",
    "data = data_italy_pm.sel(location=\"Italia\")\n",
    "\n",
    "fig, ax = covid19.plot.subplots(subplot_kw={'yscale': 'log', 'ylim': (10, 800), \"xlim\": XLIM_SIX_MONTHS}, figsize=(12, 10), note=COPYRIGHT_EPIDEMICS, note_pos=(1, 0.02))\n",
    "\n",
    "SCALE = [0.3, 1, 1.3, 10, 130, 1, 1, 1, 132]\n",
    "DELAY = [None, None, None, None, None, None, None, None, None]\n",
    "\n",
    "for kind, color, scale, delay in zip(KINDS, COLORS, SCALE, DELAY):\n",
    "    if kind is None or (SHOW and kind not in SHOW):\n",
    "        continue\n",
    "    label = kind if scale == 1 else f\"{kind} times {scale}\"\n",
    "    fit = covid19.fit.fit_exponential_segments(data[kind], breaks=[data_italy_last_day - FIT_DAYS * DAY, None], min_value=0, valid_ratio=0.1)\n",
    "    if fit:\n",
    "        ff = fit[0]\n",
    "        if abs(ff.T_d_days) < FIT_DAYS:\n",
    "            covid19.plot.plot_fit(ax, ff, color=color, extrapolate=[-2, 30], marker=None, label=f\"{kind} {FIT_DAYS}-days fit\", ratio=1 / scale)\n",
    "    covid19.plot.plot_data(ax, data[kind], label=label, color=color, date_interval=28, marker=None, annotate=True, ratio=1 / scale, delay=delay)\n",
    "\n",
    "_ = ax.set_title(f'COVID-19 Italia - dati Protezione Civile al {str(data_italy_last_day)[:10]}')\n",
    "_ = ax.set(xlabel=\"\", ylabel=\"# per milione di abitanti\")\n",
    "_ = ax.legend(loc='lower left')"
   ]
  },
  {
   "cell_type": "code",
   "execution_count": null,
   "metadata": {
    "scrolled": false
   },
   "outputs": [],
   "source": [
    "SHOW = {\"daily_confirmed7\"}\n",
    "FIT_DAYS = 11\n",
    "HIGHLIGHT_DAY = 1\n",
    "\n",
    "data = data_italy.sel(location=\"Italia\")\n",
    "\n",
    "fig, ax = covid19.plot.subplots(subplot_kw={'ylim': (0, 35000), \"xlim\": XLIM_SIX_MONTHS}, figsize=(12, 10), note=COPYRIGHT_EPIDEMICS, note_pos=(1, 0.02))\n",
    "\n",
    "SCALE = [0.3, 1, 1.3, 10, 130, 1, 1, 1, 132]\n",
    "DELAY = [None, None, None, None, None, None, None, None, None]\n",
    "\n",
    "for kind, color, scale, delay in zip(KINDS, COLORS, SCALE, DELAY):\n",
    "    if kind is None or (SHOW and kind not in SHOW):\n",
    "        continue\n",
    "    label = 'nuovi casi giornalieri' if scale == 1 else f\"{kind} times {scale}\"\n",
    "    ax.bar(data.time, data[kind[:-1]], color=color, alpha=0.25, label=label)\n",
    "    ax.bar(data.time[HIGHLIGHT_DAY::7], data[kind[:-1]][HIGHLIGHT_DAY::7], color=color, alpha=0.25)\n",
    "    covid19.plot.plot_data(ax, data[kind], label=label + \" (media su 7 giorni)\", color=color, date_interval=28, marker=None, annotate=True, ratio=1 / scale, delay=delay)\n",
    "    fit = covid19.fit.fit_exponential_segments(data[kind], breaks=[data_italy_last_day - FIT_DAYS * DAY, None], min_value=0, valid_ratio=0.1)\n",
    "    if fit:\n",
    "        ff = fit[0]\n",
    "        if True or abs(ff.T_d_days) < FIT_DAYS:\n",
    "            covid19.plot.plot_fit(ax, ff, color=color, extrapolate=[-2, 30], marker=None, label=f\"andamento dei {label}\", ratio=1 / scale)\n",
    "\n",
    "_ = ax.set_title(f'COVID-19 Italia - dati Protezione Civile al {str(data_italy_last_day)[:10]}')\n",
    "_ = ax.set(xlabel=\"\", ylabel=\"\")\n",
    "_ = ax.legend(loc='upper left')"
   ]
  },
  {
   "cell_type": "code",
   "execution_count": null,
   "metadata": {},
   "outputs": [],
   "source": []
  },
  {
   "cell_type": "code",
   "execution_count": null,
   "metadata": {
    "scrolled": false
   },
   "outputs": [],
   "source": [
    "SHOW = {\"daily_confirmed7\"}\n",
    "\n",
    "data = data_italy_pm.sel(location=\"Italia\")\n",
    "\n",
    "fig, ax = covid19.plot.subplots(subplot_kw={'yscale': 'log', 'ylim': (30, 150), \"xlim\": XLIM_THREE_MONTHS}, figsize=(12, 10), note=COPYRIGHT_EPIDEMICS, note_pos=(1, 0.02))\n",
    "\n",
    "SCALE = [0.3, 1, 1.3, 10, 130, 1, 1, 1, 132]\n",
    "DELAY = [None, None, None, None, None, None, None, None, None]\n",
    "\n",
    "for kind, color, scale, delay in zip(KINDS, COLORS, SCALE, DELAY):\n",
    "    if kind is None or (SHOW and kind not in SHOW):\n",
    "        continue\n",
    "    label = kind if scale == 1 else f\"{kind} times {scale}\"\n",
    "    fit = covid19.fit.fit_exponential_segments(data[kind], breaks=[\"2021-10-19\", \"2021-10-22\"], min_value=0, valid_ratio=0)\n",
    "    print(fit)\n",
    "    if fit:\n",
    "        ff = fit[0]\n",
    "        if True  or abs(ff.T_d_days) < FIT_DAYS:\n",
    "            covid19.plot.plot_fit(ax, ff, color=color, extrapolate=[-2, 30], marker=None, label=f\"{kind} 3-days fit\", ratio=1 / scale)\n",
    "    covid19.plot.plot_data(ax, data[kind], label=label, color=color, marker=None, date_interval=7, annotate=True, ratio=1 / scale, delay=delay)\n",
    "\n",
    "_ = ax.set_title(f'COVID-19 Italia - dati Protezione Civile al {str(data_italy_last_day)[:10]}')\n",
    "_ = ax.set(xlabel=\"\", ylabel=\"# per milione di abitanti\")\n",
    "_ = ax.legend(loc='upper left')"
   ]
  },
  {
   "cell_type": "code",
   "execution_count": null,
   "metadata": {
    "scrolled": false
   },
   "outputs": [],
   "source": [
    "SHOW = {\"tpr7\"}\n",
    "\n",
    "data = data_italy_pm.sel(location=\"Italia\")\n",
    "\n",
    "fig, ax = covid19.plot.subplots(subplot_kw={'yscale': 'log', 'ylim': (0.005, 0.05), \"xlim\": XLIM_SIX_MONTHS}, figsize=(12, 10), note=COPYRIGHT_EPIDEMICS, note_pos=(1, 0.02))\n",
    "\n",
    "SCALE = [0.3, 1, 1.3, 5.5, 75, 1, 1, 1, 140]\n",
    "DELAY = [None, None, None, None, None, None, None, None, -4]\n",
    "\n",
    "for kind, color, scale, delay in zip(KINDS, COLORS, SCALE, DELAY):\n",
    "    if kind is None or (SHOW and kind not in SHOW):\n",
    "        continue\n",
    "    label = kind if scale == 1 else f\"{kind} times {scale}\"\n",
    "    fit = covid19.fit.fit_exponential_segments(data[kind], breaks=[data_italy_last_day - FIT_DAYS * DAY, None], min_value=0, valid_ratio=0.1)\n",
    "    if fit:\n",
    "        ff = fit[0]\n",
    "        if True or abs(ff.T_d_days) < FIT_DAYS:\n",
    "            covid19.plot.plot_fit(ax, ff, color=color, extrapolate=[-2, 30], marker=None, label=f\"{kind} {FIT_DAYS}-days fit\", ratio=1 / scale)\n",
    "    covid19.plot.plot_data(ax, data[kind], label=label, color=color, date_interval=7, marker=None, annotate=True, ratio=1 / scale, delay=delay)\n",
    "\n",
    "_ = ax.set_title(f'COVID-19 Italia - dati Protezione Civile al {str(data_italy_last_day)[:10]}')\n",
    "_ = ax.set(xlabel=\"\", ylabel=\"# per milione di abitanti\")\n",
    "_ = ax.legend(loc='upper left')"
   ]
  },
  {
   "cell_type": "code",
   "execution_count": null,
   "metadata": {},
   "outputs": [],
   "source": [
    "SHOW = {\"daily_confirmed7\", \"current_severe\", \"current_critical\", \"daily_deaths7\", \"daily_critical7\"}\n",
    "\n",
    "data = data_italy_pm.sel(location=\"Italia\")\n",
    "\n",
    "fig, ax = covid19.plot.subplots(subplot_kw={'yscale': 'log', 'ylim': (0.07, 150), \"xlim\": XLIM_THREE_MONTHS_LAST_YEAR}, figsize=(12, 10), note=COPYRIGHT_EPIDEMICS, note_pos=(1, 0.02))\n",
    "\n",
    "for kind, color in zip(KINDS, COLORS):\n",
    "    if kind is None or (SHOW and kind not in SHOW):\n",
    "        continue\n",
    "    covid19.plot.plot_data(ax, data[kind], label=kind, color=color, date_interval=7, marker=None, annotate=False)\n",
    "\n",
    "_ = ax.set_title(f'COVID-19 Italia - dati Protezione Civile al {str(data_italy_last_day)[:10]}')\n",
    "_ = ax.set(xlabel=\"\", ylabel=\"# per milione di abitanti\")\n",
    "_ = ax.legend(loc='upper left')"
   ]
  },
  {
   "cell_type": "code",
   "execution_count": null,
   "metadata": {},
   "outputs": [],
   "source": []
  },
  {
   "cell_type": "code",
   "execution_count": null,
   "metadata": {},
   "outputs": [],
   "source": []
  },
  {
   "cell_type": "code",
   "execution_count": null,
   "metadata": {},
   "outputs": [],
   "source": [
    "!git -C ../../../italia/covid19-opendata-vaccini pull"
   ]
  },
  {
   "cell_type": "code",
   "execution_count": null,
   "metadata": {},
   "outputs": [],
   "source": [
    "vaccines_italy_path = '../../../italia/covid19-opendata-vaccini/dati/somministrazioni-vaccini-latest.csv'\n",
    "\n",
    "vaccines_italy = covid19.data.read_vaccini(vaccines_italy_path)\n",
    "vaccines_italy"
   ]
  },
  {
   "cell_type": "code",
   "execution_count": null,
   "metadata": {},
   "outputs": [],
   "source": [
    "providers = vaccines_italy.doses.sum([\"time\", \"age_class\", \"location\", \"dose_type\"])\n",
    "providers"
   ]
  },
  {
   "cell_type": "code",
   "execution_count": null,
   "metadata": {},
   "outputs": [],
   "source": [
    "doses = vaccines_italy.doses.sortby(-providers)\n",
    "\n",
    "primed = doses.sel(dose_type=\"first\")\n",
    "vaccinated = xr.where(doses.provider == \"Janssen\", doses.sel(dose_type=\"first\"), doses.sel(dose_type=\"second\"))\n",
    "boosted = doses.sel(dose_type=\"booster\")"
   ]
  },
  {
   "cell_type": "code",
   "execution_count": null,
   "metadata": {},
   "outputs": [],
   "source": [
    "location = \"Italia\"\n",
    "fig, ax = covid19.plot.subplots(note=COPYRIGHT_VACCINES)\n",
    "covid19.plot.stack_xarray(primed.sel(location=location).sum(\"age_class\"), hue=\"provider\", window=7, title=f\"Popolazione - {location}\", label_total=\"Media a 7 gioni del totale\", ax=ax)\n",
    "ax.set(ylabel=\"prime dosi somministrate al giorno\")\n",
    "ax.legend()"
   ]
  },
  {
   "cell_type": "code",
   "execution_count": null,
   "metadata": {},
   "outputs": [],
   "source": [
    "location = \"Italia\"\n",
    "fig, ax = covid19.plot.subplots(note=COPYRIGHT_VACCINES)\n",
    "covid19.plot.stack_xarray(doses.sel(location=location).sum([\"provider\", \"age_class\"]), hue=\"dose_type\", window=7, title=f\"Popolazione - {location}\", label_total=\"Media a 7 gioni del totale\", ax=ax, date_interval=45)\n",
    "ax.set(ylabel=\"dosi somministrate al giorno\")\n",
    "ax.legend()\n"
   ]
  },
  {
   "cell_type": "code",
   "execution_count": null,
   "metadata": {},
   "outputs": [],
   "source": [
    "location = \"Italia\"\n",
    "data = primed.sel(location=location).cumsum(\"time\").sum(\"age_class\") / primed.sel(location=location).population\n",
    "fig, ax = covid19.plot.subplots(note=COPYRIGHT_VACCINES)\n",
    "covid19.plot.stack_xarray(data, hue=\"provider\", title=f\"Popolazione - almeno una dose - {location}\", ylim=(0, 1), alpha=0.8, ax=ax)\n",
    "ax.yaxis.set_major_formatter(matplotlib.ticker.PercentFormatter(1, 0))\n",
    "ax.set(ylabel=\"% popolazione\")\n",
    "ax.legend() "
   ]
  },
  {
   "cell_type": "code",
   "execution_count": null,
   "metadata": {},
   "outputs": [],
   "source": [
    "location = \"Italia\"\n",
    "data = vaccinated.sel(location=location).cumsum(\"time\").sum(\"age_class\") / vaccinated.sel(location=location).population\n",
    "fig, ax = covid19.plot.subplots(note=COPYRIGHT_VACCINES)\n",
    "covid19.plot.stack_xarray(data, hue=\"provider\", title=f\"Popolazione - vaccinati - {location}\", ylim=(0, 1), alpha=0.8, ax=ax)\n",
    "ax.yaxis.set_major_formatter(matplotlib.ticker.PercentFormatter(1, 0))\n",
    "ax.set(ylabel=\"% popolazione\")\n",
    "ax.legend() "
   ]
  },
  {
   "cell_type": "code",
   "execution_count": null,
   "metadata": {},
   "outputs": [],
   "source": [
    "location = \"Italia\"\n",
    "boosted_full = boosted.sel(location=location).cumsum(\"time\").sum([\"age_class\", \"provider\"])\n",
    "vaccinated_full = vaccinated.sel(location=location).cumsum(\"time\").sum([\"age_class\", \"provider\"])\n",
    "primed_full = primed.sel(location=location).cumsum(\"time\").sum([\"age_class\", \"provider\"])\n",
    "data = xr.concat([\n",
    "    boosted_full.expand_dims(status=[\"booster\"]),\n",
    "    (vaccinated_full - boosted_full).expand_dims(status=[\"second dose\"]),\n",
    "    (primed_full - vaccinated_full).expand_dims(status=[\"first dose\"])\n",
    "], dim=\"status\", coords='minimal', compat='override')\n",
    "\n",
    "data = data / primed.sel(location=location).population\n",
    "\n",
    "fig, ax = covid19.plot.subplots(note=COPYRIGHT_VACCINES)\n",
    "covid19.plot.stack_xarray(data, hue=\"status\", title=f\"Popolazione - vaccinati - {location}\", ylim=(0, 1), alpha=0.8, ax=ax, date_interval=42)\n",
    "ax.yaxis.set_major_formatter(matplotlib.ticker.PercentFormatter(1, 0))\n",
    "ax.set(ylabel=\"% popolazione\")\n",
    "ax.legend(loc=\"upper left\")\n"
   ]
  },
  {
   "cell_type": "code",
   "execution_count": null,
   "metadata": {},
   "outputs": [],
   "source": []
  },
  {
   "cell_type": "code",
   "execution_count": null,
   "metadata": {
    "scrolled": false
   },
   "outputs": [],
   "source": [
    "SHOW = {\"daily_confirmed7\", \"daily_critical7\"}\n",
    "SCALE = [0.3, 1, 0.7, 5, 50, 1, 1, 1, 110]\n",
    "YLIM = (1 * 0.9, 1000 / 0.9)\n",
    "FIT_DAYS = 42\n",
    "SHOW_FIT = SHOW\n",
    "\n",
    "for location in data_italy.location.values:\n",
    "    data = data_italy_pm.sel(location=location)\n",
    "    _, ax = covid19.plot.subplots(subplot_kw={'xlim': XLIM_ONE_YEAR, 'yscale': 'log'}, note=COPYRIGHT_EPIDEMICS, note_pos=(1, 0.01))\n",
    "\n",
    "    for kind, color, scale in zip(KINDS, COLORS, SCALE):\n",
    "        if kind is None or (SHOW and kind not in SHOW):\n",
    "            continue\n",
    "        label = kind if scale == 1 else f\"{kind} times {scale}\"\n",
    "        covid19.plot.plot_data(ax, data[kind], label=label, color=color, date_interval=21, marker=None, annotate=True, ratio=1 / scale, ylim=[10, 1000])\n",
    "        if kind in SHOW_FIT:\n",
    "            fit = covid19.fit.fit_exponential_segments(data[kind], breaks=[data_italy_last_day - FIT_DAYS * DAY, None], min_value=0, valid_ratio=0.1)\n",
    "            if fit:\n",
    "                ff = fit[0]\n",
    "                if abs(ff.T_d_days) < FIT_DAYS:\n",
    "                    covid19.plot.plot_fit(ax, ff, color=color, extrapolate=[-2, 30], marker=None, label=f\"{kind} {FIT_DAYS}-days fit\", ratio=1 / scale)\n",
    "\n",
    "    _ = ax.set_title(f'COVID-19 {location} - dati Protezione Civile al {str(data_italy_last_day)[:10]}')\n",
    "    _ = ax.set(xlabel=\"\", ylabel=\"# per milione di abitanti\")\n",
    "    _ = ax.legend(loc='lower center')\n"
   ]
  },
  {
   "cell_type": "code",
   "execution_count": null,
   "metadata": {},
   "outputs": [],
   "source": []
  },
  {
   "cell_type": "code",
   "execution_count": null,
   "metadata": {},
   "outputs": [],
   "source": []
  }
 ],
 "metadata": {
  "kernelspec": {
   "display_name": "Python 3",
   "language": "python",
   "name": "python3"
  },
  "language_info": {
   "codemirror_mode": {
    "name": "ipython",
    "version": 3
   },
   "file_extension": ".py",
   "mimetype": "text/x-python",
   "name": "python",
   "nbconvert_exporter": "python",
   "pygments_lexer": "ipython3",
   "version": "3.9.6"
  }
 },
 "nbformat": 4,
 "nbformat_minor": 4
}
